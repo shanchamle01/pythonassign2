{
 "cells": [
  {
   "cell_type": "code",
   "execution_count": 5,
   "id": "c8a9c597-91d0-4479-8125-f2fd76192e0c",
   "metadata": {},
   "outputs": [],
   "source": [
    "#q.1\n",
    "tup=[('sachin tendulkar',34357),('rickey ponting',27483),('jack kallis',25534),('virat kohli',24936)]\n",
    "    "
   ]
  },
  {
   "cell_type": "code",
   "execution_count": 6,
   "id": "b13bfcc4-c03c-4958-929b-fbaec9fb1420",
   "metadata": {},
   "outputs": [],
   "source": [
    "def Sort_Tuple(tup):\n",
    "    return (sorted (tup,key=lambda x:x[1]))\n",
    "    "
   ]
  },
  {
   "cell_type": "code",
   "execution_count": 7,
   "id": "4103814b-b9fb-44b9-98cd-4bdff42e9884",
   "metadata": {},
   "outputs": [
    {
     "name": "stdout",
     "output_type": "stream",
     "text": [
      "[('virat kohli', 24936), ('jack kallis', 25534), ('rickey ponting', 27483), ('sachin tendulkar', 34357)]\n"
     ]
    }
   ],
   "source": [
    "print(Sort_Tuple(tup))"
   ]
  },
  {
   "cell_type": "code",
   "execution_count": 8,
   "id": "3613e641-f0a0-477f-a038-f2f9417f4300",
   "metadata": {},
   "outputs": [],
   "source": [
    "#q.2\n",
    "m=2\n",
    "n=3"
   ]
  },
  {
   "cell_type": "code",
   "execution_count": 9,
   "id": "120388b6-1df9-42cb-b5a8-f9f67bff6489",
   "metadata": {},
   "outputs": [],
   "source": [
    "a=lambda m,n:m**n"
   ]
  },
  {
   "cell_type": "code",
   "execution_count": 10,
   "id": "5d652187-0945-469a-89ca-28ec3aa4e959",
   "metadata": {},
   "outputs": [
    {
     "data": {
      "text/plain": [
       "8"
      ]
     },
     "execution_count": 10,
     "metadata": {},
     "output_type": "execute_result"
    }
   ],
   "source": [
    "a(2,3)"
   ]
  },
  {
   "cell_type": "code",
   "execution_count": 22,
   "id": "a3ca344c-cbd6-4d1f-8819-a13a6dd6d528",
   "metadata": {},
   "outputs": [],
   "source": [
    "#q.3\n",
    "Input=[1,2,3,4,5,6,7,8,9,10]"
   ]
  },
  {
   "cell_type": "code",
   "execution_count": 19,
   "id": "466bd1ec-8f01-4af4-af6b-7f5f25c953ae",
   "metadata": {},
   "outputs": [],
   "source": [
    "output=tuple(map(lambda x:[x],Input))"
   ]
  },
  {
   "cell_type": "code",
   "execution_count": 21,
   "id": "00c76503-f163-4026-bfdc-e4d8def7d96d",
   "metadata": {},
   "outputs": [
    {
     "name": "stdout",
     "output_type": "stream",
     "text": [
      "([1], [2], [3], [4], [5], [6], [7], [8], [9], [10])\n"
     ]
    }
   ],
   "source": [
    "print(output)"
   ]
  },
  {
   "cell_type": "code",
   "execution_count": 25,
   "id": "a784038a-52a2-4803-86ce-e5017daf23a6",
   "metadata": {},
   "outputs": [],
   "source": [
    "#q.4from functools import reduce\n"
   ]
  },
  {
   "cell_type": "code",
   "execution_count": 23,
   "id": "3b6c0a90-6ea0-4bff-b34e-15bf8f4cac99",
   "metadata": {},
   "outputs": [],
   "source": [
    "l=[1,2,3,4,5,6,7,8,9,10,11,12,13,14,15,16,17,18,19,20,21,22,23,24,25]"
   ]
  },
  {
   "cell_type": "code",
   "execution_count": 26,
   "id": "5cb92e5e-169d-4542-a0b1-e2b25b48f13f",
   "metadata": {},
   "outputs": [
    {
     "data": {
      "text/plain": [
       "15511210043330985984000000"
      ]
     },
     "execution_count": 26,
     "metadata": {},
     "output_type": "execute_result"
    }
   ],
   "source": [
    "reduce(lambda x,y:x*y,l)"
   ]
  },
  {
   "cell_type": "code",
   "execution_count": 45,
   "id": "24ac0094-45f8-48a4-bfea-4e03735ab7f4",
   "metadata": {},
   "outputs": [],
   "source": [
    "l1=[2, 3, 6, 9, 27, 60, 90, 120, 55, 46]"
   ]
  },
  {
   "cell_type": "code",
   "execution_count": 46,
   "id": "35911137-a128-427e-8336-b3c820a05867",
   "metadata": {},
   "outputs": [
    {
     "data": {
      "text/plain": [
       "[2, 3, 6, 9, 27, 60, 90, 120, 55, 46]"
      ]
     },
     "execution_count": 46,
     "metadata": {},
     "output_type": "execute_result"
    }
   ],
   "source": [
    "l1"
   ]
  },
  {
   "cell_type": "code",
   "execution_count": null,
   "id": "d5ad6aa8-b901-4a24-a580-673a5b9b92fe",
   "metadata": {},
   "outputs": [],
   "source": [
    "list(filter(lambda x:x%2==0,[l1]))"
   ]
  },
  {
   "cell_type": "code",
   "execution_count": null,
   "id": "9dfabb8b-7870-4784-9d84-0ce99736e877",
   "metadata": {},
   "outputs": [],
   "source": [
    "list(filter(lambda x:x%3==0,l1))"
   ]
  },
  {
   "cell_type": "code",
   "execution_count": null,
   "id": "9817685d-33ac-480f-806a-7329708c080e",
   "metadata": {},
   "outputs": [],
   "source": []
  },
  {
   "cell_type": "code",
   "execution_count": 49,
   "id": "a64deeb5-a3f4-42fe-a50c-f427481052e3",
   "metadata": {},
   "outputs": [],
   "source": [
    "my_list=['python', 'php', 'aba', 'radar', 'level']\n"
   ]
  },
  {
   "cell_type": "code",
   "execution_count": null,
   "id": "b0f17958-d58e-4676-899b-686f1b5801f1",
   "metadata": {},
   "outputs": [],
   "source": [
    "result=list(filter(lambda x:(x==\"\".join(reversed(x))),my_list))"
   ]
  }
 ],
 "metadata": {
  "kernelspec": {
   "display_name": "Python 3 (ipykernel)",
   "language": "python",
   "name": "python3"
  },
  "language_info": {
   "codemirror_mode": {
    "name": "ipython",
    "version": 3
   },
   "file_extension": ".py",
   "mimetype": "text/x-python",
   "name": "python",
   "nbconvert_exporter": "python",
   "pygments_lexer": "ipython3",
   "version": "3.11.4"
  }
 },
 "nbformat": 4,
 "nbformat_minor": 5
}
